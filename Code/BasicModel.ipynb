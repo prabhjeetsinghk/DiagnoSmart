{
  "cells": [
    {
      "cell_type": "code",
      "execution_count": 39,
      "metadata": {
        "id": "DIkza7GAFBco"
      },
      "outputs": [],
      "source": [
        "import pandas as pd\n",
        "import numpy as np\n",
        "\n",
        "import tensorflow as tf\n",
        "import tensorflow_hub as hub\n",
        "\n",
        "from sklearn.neighbors import NearestNeighbors\n",
        "\n",
        "\n",
        "import warnings\n",
        "warnings.filterwarnings(\"ignore\")\n",
        "pd.set_option('display.max_colwidth', None)"
      ]
    },
    {
      "cell_type": "code",
      "execution_count": 18,
      "metadata": {
        "id": "uDaNRb9AFkRi"
      },
      "outputs": [
        {
          "data": {
            "text/html": [
              "<div>\n",
              "<style scoped>\n",
              "    .dataframe tbody tr th:only-of-type {\n",
              "        vertical-align: middle;\n",
              "    }\n",
              "\n",
              "    .dataframe tbody tr th {\n",
              "        vertical-align: top;\n",
              "    }\n",
              "\n",
              "    .dataframe thead th {\n",
              "        text-align: right;\n",
              "    }\n",
              "</style>\n",
              "<table border=\"1\" class=\"dataframe\">\n",
              "  <thead>\n",
              "    <tr style=\"text-align: right;\">\n",
              "      <th></th>\n",
              "      <th>Disease</th>\n",
              "      <th>Symptom_1</th>\n",
              "      <th>Symptom_2</th>\n",
              "      <th>Symptom_3</th>\n",
              "      <th>Symptom_4</th>\n",
              "      <th>Symptom_5</th>\n",
              "      <th>Symptom_6</th>\n",
              "      <th>Symptom_7</th>\n",
              "      <th>Symptom_8</th>\n",
              "      <th>Symptom_9</th>\n",
              "      <th>Symptom_10</th>\n",
              "      <th>Symptom_11</th>\n",
              "      <th>Symptom_12</th>\n",
              "      <th>Symptom_13</th>\n",
              "      <th>Symptom_14</th>\n",
              "      <th>Symptom_15</th>\n",
              "      <th>Symptom_16</th>\n",
              "      <th>Symptom_17</th>\n",
              "    </tr>\n",
              "  </thead>\n",
              "  <tbody>\n",
              "    <tr>\n",
              "      <th>0</th>\n",
              "      <td>Fungal infection</td>\n",
              "      <td>itching</td>\n",
              "      <td>skin_rash</td>\n",
              "      <td>nodal_skin_eruptions</td>\n",
              "      <td>dischromic _patches</td>\n",
              "      <td>NaN</td>\n",
              "      <td>NaN</td>\n",
              "      <td>NaN</td>\n",
              "      <td>NaN</td>\n",
              "      <td>NaN</td>\n",
              "      <td>NaN</td>\n",
              "      <td>NaN</td>\n",
              "      <td>NaN</td>\n",
              "      <td>NaN</td>\n",
              "      <td>NaN</td>\n",
              "      <td>NaN</td>\n",
              "      <td>NaN</td>\n",
              "      <td>NaN</td>\n",
              "    </tr>\n",
              "    <tr>\n",
              "      <th>1</th>\n",
              "      <td>Fungal infection</td>\n",
              "      <td>skin_rash</td>\n",
              "      <td>nodal_skin_eruptions</td>\n",
              "      <td>dischromic _patches</td>\n",
              "      <td>NaN</td>\n",
              "      <td>NaN</td>\n",
              "      <td>NaN</td>\n",
              "      <td>NaN</td>\n",
              "      <td>NaN</td>\n",
              "      <td>NaN</td>\n",
              "      <td>NaN</td>\n",
              "      <td>NaN</td>\n",
              "      <td>NaN</td>\n",
              "      <td>NaN</td>\n",
              "      <td>NaN</td>\n",
              "      <td>NaN</td>\n",
              "      <td>NaN</td>\n",
              "      <td>NaN</td>\n",
              "    </tr>\n",
              "  </tbody>\n",
              "</table>\n",
              "</div>"
            ],
            "text/plain": [
              "            Disease   Symptom_1              Symptom_2              Symptom_3  \\\n",
              "0  Fungal infection     itching              skin_rash   nodal_skin_eruptions   \n",
              "1  Fungal infection   skin_rash   nodal_skin_eruptions    dischromic _patches   \n",
              "\n",
              "              Symptom_4 Symptom_5 Symptom_6 Symptom_7 Symptom_8 Symptom_9  \\\n",
              "0   dischromic _patches       NaN       NaN       NaN       NaN       NaN   \n",
              "1                   NaN       NaN       NaN       NaN       NaN       NaN   \n",
              "\n",
              "  Symptom_10 Symptom_11 Symptom_12 Symptom_13 Symptom_14 Symptom_15  \\\n",
              "0        NaN        NaN        NaN        NaN        NaN        NaN   \n",
              "1        NaN        NaN        NaN        NaN        NaN        NaN   \n",
              "\n",
              "  Symptom_16 Symptom_17  \n",
              "0        NaN        NaN  \n",
              "1        NaN        NaN  "
            ]
          },
          "execution_count": 18,
          "metadata": {},
          "output_type": "execute_result"
        }
      ],
      "source": [
        "symptomsDF = pd.read_csv('C:/Users/HP/Documents/AIML/DiagnoSmart/Dataset/dataset.csv')\n",
        "symptomsDF.head(2)"
      ]
    },
    {
      "cell_type": "code",
      "execution_count": 19,
      "metadata": {
        "colab": {
          "base_uri": "https://localhost:8080/",
          "height": 245
        },
        "id": "qjWuOmbqLTcn",
        "outputId": "a853edc1-8c01-49f4-f353-42a3e15f10bb"
      },
      "outputs": [
        {
          "data": {
            "text/html": [
              "<div>\n",
              "<style scoped>\n",
              "    .dataframe tbody tr th:only-of-type {\n",
              "        vertical-align: middle;\n",
              "    }\n",
              "\n",
              "    .dataframe tbody tr th {\n",
              "        vertical-align: top;\n",
              "    }\n",
              "\n",
              "    .dataframe thead th {\n",
              "        text-align: right;\n",
              "    }\n",
              "</style>\n",
              "<table border=\"1\" class=\"dataframe\">\n",
              "  <thead>\n",
              "    <tr style=\"text-align: right;\">\n",
              "      <th></th>\n",
              "      <th>Disease</th>\n",
              "      <th>Symptom_1</th>\n",
              "      <th>Symptom_2</th>\n",
              "      <th>Symptom_3</th>\n",
              "      <th>Symptom_4</th>\n",
              "      <th>Symptom_5</th>\n",
              "      <th>Symptom_6</th>\n",
              "      <th>Symptom_7</th>\n",
              "      <th>Symptom_8</th>\n",
              "      <th>Symptom_9</th>\n",
              "      <th>Symptom_10</th>\n",
              "      <th>Symptom_11</th>\n",
              "      <th>Symptom_12</th>\n",
              "      <th>Symptom_13</th>\n",
              "      <th>Symptom_14</th>\n",
              "      <th>Symptom_15</th>\n",
              "      <th>Symptom_16</th>\n",
              "      <th>Symptom_17</th>\n",
              "    </tr>\n",
              "  </thead>\n",
              "  <tbody>\n",
              "    <tr>\n",
              "      <th>0</th>\n",
              "      <td>Fungal infection</td>\n",
              "      <td>[itching]</td>\n",
              "      <td>[ skin, rash]</td>\n",
              "      <td>[ nodal, skin, eruptions]</td>\n",
              "      <td>[ dischromic , patches]</td>\n",
              "      <td>[None]</td>\n",
              "      <td>[None]</td>\n",
              "      <td>[None]</td>\n",
              "      <td>[None]</td>\n",
              "      <td>[None]</td>\n",
              "      <td>[None]</td>\n",
              "      <td>[None]</td>\n",
              "      <td>[None]</td>\n",
              "      <td>[None]</td>\n",
              "      <td>[None]</td>\n",
              "      <td>[None]</td>\n",
              "      <td>[None]</td>\n",
              "      <td>[None]</td>\n",
              "    </tr>\n",
              "    <tr>\n",
              "      <th>1</th>\n",
              "      <td>Fungal infection</td>\n",
              "      <td>[ skin, rash]</td>\n",
              "      <td>[ nodal, skin, eruptions]</td>\n",
              "      <td>[ dischromic , patches]</td>\n",
              "      <td>[None]</td>\n",
              "      <td>[None]</td>\n",
              "      <td>[None]</td>\n",
              "      <td>[None]</td>\n",
              "      <td>[None]</td>\n",
              "      <td>[None]</td>\n",
              "      <td>[None]</td>\n",
              "      <td>[None]</td>\n",
              "      <td>[None]</td>\n",
              "      <td>[None]</td>\n",
              "      <td>[None]</td>\n",
              "      <td>[None]</td>\n",
              "      <td>[None]</td>\n",
              "      <td>[None]</td>\n",
              "    </tr>\n",
              "  </tbody>\n",
              "</table>\n",
              "</div>"
            ],
            "text/plain": [
              "            Disease      Symptom_1                  Symptom_2  \\\n",
              "0  Fungal infection      [itching]              [ skin, rash]   \n",
              "1  Fungal infection  [ skin, rash]  [ nodal, skin, eruptions]   \n",
              "\n",
              "                   Symptom_3                Symptom_4 Symptom_5 Symptom_6  \\\n",
              "0  [ nodal, skin, eruptions]  [ dischromic , patches]    [None]    [None]   \n",
              "1    [ dischromic , patches]                   [None]    [None]    [None]   \n",
              "\n",
              "  Symptom_7 Symptom_8 Symptom_9 Symptom_10 Symptom_11 Symptom_12 Symptom_13  \\\n",
              "0    [None]    [None]    [None]     [None]     [None]     [None]     [None]   \n",
              "1    [None]    [None]    [None]     [None]     [None]     [None]     [None]   \n",
              "\n",
              "  Symptom_14 Symptom_15 Symptom_16 Symptom_17  \n",
              "0     [None]     [None]     [None]     [None]  \n",
              "1     [None]     [None]     [None]     [None]  "
            ]
          },
          "execution_count": 19,
          "metadata": {},
          "output_type": "execute_result"
        }
      ],
      "source": [
        "symptomsDF = symptomsDF.replace(np.NaN, 'None')\n",
        "\n",
        "cols = list(symptomsDF.columns)\n",
        "for i in cols[1:]:\n",
        "  symptomsDF[i] = symptomsDF[i].str.split(\"_\")\n",
        "symptomsDF.head(2)"
      ]
    },
    {
      "cell_type": "code",
      "execution_count": 20,
      "metadata": {
        "colab": {
          "base_uri": "https://localhost:8080/",
          "height": 112
        },
        "id": "iZUVGsCSHHqw",
        "outputId": "825fcfb1-3399-4618-a5cf-b58d3c33ed0e"
      },
      "outputs": [
        {
          "data": {
            "text/html": [
              "<div>\n",
              "<style scoped>\n",
              "    .dataframe tbody tr th:only-of-type {\n",
              "        vertical-align: middle;\n",
              "    }\n",
              "\n",
              "    .dataframe tbody tr th {\n",
              "        vertical-align: top;\n",
              "    }\n",
              "\n",
              "    .dataframe thead th {\n",
              "        text-align: right;\n",
              "    }\n",
              "</style>\n",
              "<table border=\"1\" class=\"dataframe\">\n",
              "  <thead>\n",
              "    <tr style=\"text-align: right;\">\n",
              "      <th></th>\n",
              "      <th>Disease</th>\n",
              "      <th>combined_symptoms</th>\n",
              "    </tr>\n",
              "  </thead>\n",
              "  <tbody>\n",
              "    <tr>\n",
              "      <th>0</th>\n",
              "      <td>Fungal infection</td>\n",
              "      <td>[itching,  skin, rash,  nodal, skin, eruptions,  dischromic , patches, None]</td>\n",
              "    </tr>\n",
              "    <tr>\n",
              "      <th>1</th>\n",
              "      <td>Fungal infection</td>\n",
              "      <td>[ skin, rash,  nodal, skin, eruptions,  dischromic , patches, None, None]</td>\n",
              "    </tr>\n",
              "  </tbody>\n",
              "</table>\n",
              "</div>"
            ],
            "text/plain": [
              "            Disease  \\\n",
              "0  Fungal infection   \n",
              "1  Fungal infection   \n",
              "\n",
              "                                                              combined_symptoms  \n",
              "0  [itching,  skin, rash,  nodal, skin, eruptions,  dischromic , patches, None]  \n",
              "1     [ skin, rash,  nodal, skin, eruptions,  dischromic , patches, None, None]  "
            ]
          },
          "execution_count": 20,
          "metadata": {},
          "output_type": "execute_result"
        }
      ],
      "source": [
        "symptomsDF['combined_symptoms'] = symptomsDF['Symptom_1'] + symptomsDF['Symptom_2'] + symptomsDF['Symptom_3'] + symptomsDF['Symptom_4'] + symptomsDF['Symptom_5']\n",
        "symptomsDF.drop(columns=cols[1:],inplace=True)\n",
        "symptomsDF.head(2)"
      ]
    },
    {
      "cell_type": "code",
      "execution_count": 22,
      "metadata": {
        "colab": {
          "base_uri": "https://localhost:8080/",
          "height": 112
        },
        "id": "vmY9okvVP0XI",
        "outputId": "f9370de4-db38-4544-d75c-b3dc98184787"
      },
      "outputs": [
        {
          "data": {
            "text/html": [
              "<div>\n",
              "<style scoped>\n",
              "    .dataframe tbody tr th:only-of-type {\n",
              "        vertical-align: middle;\n",
              "    }\n",
              "\n",
              "    .dataframe tbody tr th {\n",
              "        vertical-align: top;\n",
              "    }\n",
              "\n",
              "    .dataframe thead th {\n",
              "        text-align: right;\n",
              "    }\n",
              "</style>\n",
              "<table border=\"1\" class=\"dataframe\">\n",
              "  <thead>\n",
              "    <tr style=\"text-align: right;\">\n",
              "      <th></th>\n",
              "      <th>Disease</th>\n",
              "      <th>combined_symptoms</th>\n",
              "    </tr>\n",
              "  </thead>\n",
              "  <tbody>\n",
              "    <tr>\n",
              "      <th>0</th>\n",
              "      <td>Fungal infection</td>\n",
              "      <td>itching  skin rash  nodal skin eruptions  dischromic  patches None</td>\n",
              "    </tr>\n",
              "    <tr>\n",
              "      <th>1</th>\n",
              "      <td>Fungal infection</td>\n",
              "      <td>skin rash  nodal skin eruptions  dischromic  patches None None</td>\n",
              "    </tr>\n",
              "  </tbody>\n",
              "</table>\n",
              "</div>"
            ],
            "text/plain": [
              "            Disease  \\\n",
              "0  Fungal infection   \n",
              "1  Fungal infection   \n",
              "\n",
              "                                                    combined_symptoms  \n",
              "0  itching  skin rash  nodal skin eruptions  dischromic  patches None  \n",
              "1      skin rash  nodal skin eruptions  dischromic  patches None None  "
            ]
          },
          "execution_count": 22,
          "metadata": {},
          "output_type": "execute_result"
        }
      ],
      "source": [
        "testDF = symptomsDF.copy()\n",
        "testDF['combined_symptoms'] = testDF['combined_symptoms'].apply(lambda x: ' '.join(x))\n",
        "testDF.head(2)"
      ]
    },
    {
      "cell_type": "code",
      "execution_count": 23,
      "metadata": {},
      "outputs": [
        {
          "data": {
            "text/html": [
              "<div>\n",
              "<style scoped>\n",
              "    .dataframe tbody tr th:only-of-type {\n",
              "        vertical-align: middle;\n",
              "    }\n",
              "\n",
              "    .dataframe tbody tr th {\n",
              "        vertical-align: top;\n",
              "    }\n",
              "\n",
              "    .dataframe thead th {\n",
              "        text-align: right;\n",
              "    }\n",
              "</style>\n",
              "<table border=\"1\" class=\"dataframe\">\n",
              "  <thead>\n",
              "    <tr style=\"text-align: right;\">\n",
              "      <th></th>\n",
              "      <th>Disease</th>\n",
              "      <th>combined_symptoms</th>\n",
              "    </tr>\n",
              "  </thead>\n",
              "  <tbody>\n",
              "    <tr>\n",
              "      <th>0</th>\n",
              "      <td>Fungal infection</td>\n",
              "      <td>itching skin rash nodal eruptions dischromic patches None</td>\n",
              "    </tr>\n",
              "    <tr>\n",
              "      <th>1</th>\n",
              "      <td>Fungal infection</td>\n",
              "      <td>skin rash nodal eruptions dischromic patches None</td>\n",
              "    </tr>\n",
              "  </tbody>\n",
              "</table>\n",
              "</div>"
            ],
            "text/plain": [
              "            Disease                                          combined_symptoms\n",
              "0  Fungal infection  itching skin rash nodal eruptions dischromic patches None\n",
              "1  Fungal infection          skin rash nodal eruptions dischromic patches None"
            ]
          },
          "execution_count": 23,
          "metadata": {},
          "output_type": "execute_result"
        }
      ],
      "source": [
        "def clean_duplicate(text):\n",
        "  words = text.split()\n",
        "  unique_words = set()\n",
        "  result = []\n",
        "  for word in words:\n",
        "      if word not in unique_words:\n",
        "          unique_words.add(word)\n",
        "          result.append(word)\n",
        "\n",
        "  return ' '.join(result)\n",
        "\n",
        "testDF['combined_symptoms'] = testDF['combined_symptoms'].apply(clean_duplicate)\n",
        "testDF.head(2)"
      ]
    },
    {
      "cell_type": "code",
      "execution_count": 24,
      "metadata": {
        "colab": {
          "base_uri": "https://localhost:8080/"
        },
        "id": "3y3HmwvKRQ9Q",
        "outputId": "e0848d5b-5fde-4436-f4df-aa47300c9bfe"
      },
      "outputs": [
        {
          "data": {
            "text/plain": [
              "(235, 2)"
            ]
          },
          "execution_count": 24,
          "metadata": {},
          "output_type": "execute_result"
        }
      ],
      "source": [
        "testDF = testDF.drop_duplicates()\n",
        "testDF.shape"
      ]
    },
    {
      "cell_type": "code",
      "execution_count": 25,
      "metadata": {
        "colab": {
          "base_uri": "https://localhost:8080/"
        },
        "id": "igHaX6CCRYKO",
        "outputId": "ea25bc26-60b0-419a-f555-3bc91d1f9bfb"
      },
      "outputs": [
        {
          "data": {
            "text/plain": [
              "array(['Fungal infection', 'Allergy', 'GERD', 'Chronic cholestasis',\n",
              "       'Drug Reaction', 'Peptic ulcer diseae', 'AIDS', 'Diabetes ',\n",
              "       'Gastroenteritis', 'Bronchial Asthma', 'Hypertension ', 'Migraine',\n",
              "       'Cervical spondylosis', 'Paralysis (brain hemorrhage)', 'Jaundice',\n",
              "       'Malaria', 'Chicken pox', 'Dengue', 'Typhoid', 'hepatitis A',\n",
              "       'Hepatitis B', 'Hepatitis C', 'Hepatitis D', 'Hepatitis E',\n",
              "       'Alcoholic hepatitis', 'Tuberculosis', 'Common Cold', 'Pneumonia',\n",
              "       'Dimorphic hemmorhoids(piles)', 'Heart attack', 'Varicose veins',\n",
              "       'Hypothyroidism', 'Hyperthyroidism', 'Hypoglycemia',\n",
              "       'Osteoarthristis', 'Arthritis',\n",
              "       '(vertigo) Paroymsal  Positional Vertigo', 'Acne',\n",
              "       'Urinary tract infection', 'Psoriasis', 'Impetigo'], dtype=object)"
            ]
          },
          "execution_count": 25,
          "metadata": {},
          "output_type": "execute_result"
        }
      ],
      "source": [
        "testDF['Disease'].unique()"
      ]
    },
    {
      "cell_type": "code",
      "execution_count": 26,
      "metadata": {
        "colab": {
          "base_uri": "https://localhost:8080/"
        },
        "id": "3FHldHdvHdzJ",
        "outputId": "1ec2ec7a-a942-4f75-eb2b-b684e10398ef"
      },
      "outputs": [
        {
          "name": "stdout",
          "output_type": "stream",
          "text": [
            "<class 'pandas.core.frame.DataFrame'>\n",
            "RangeIndex: 4920 entries, 0 to 4919\n",
            "Data columns (total 2 columns):\n",
            " #   Column             Non-Null Count  Dtype \n",
            "---  ------             --------------  ----- \n",
            " 0   Disease            4920 non-null   object\n",
            " 1   combined_symptoms  4920 non-null   object\n",
            "dtypes: object(2)\n",
            "memory usage: 77.0+ KB\n"
          ]
        }
      ],
      "source": [
        "symptomsDF.info()"
      ]
    },
    {
      "cell_type": "code",
      "execution_count": 28,
      "metadata": {
        "id": "ekbX0DkDHi1t"
      },
      "outputs": [],
      "source": [
        "diseaseDescriptionDF = pd.read_csv('C:/Users/HP/Documents/AIML/DiagnoSmart/Dataset/symptom_Description.csv')"
      ]
    },
    {
      "cell_type": "code",
      "execution_count": 146,
      "metadata": {
        "colab": {
          "base_uri": "https://localhost:8080/"
        },
        "id": "KtL-4bFAH5Sz",
        "outputId": "4eec47aa-41c0-410a-a1a6-427a348ee5bb"
      },
      "outputs": [
        {
          "name": "stdout",
          "output_type": "stream",
          "text": [
            "<class 'pandas.core.frame.DataFrame'>\n",
            "RangeIndex: 41 entries, 0 to 40\n",
            "Data columns (total 2 columns):\n",
            " #   Column       Non-Null Count  Dtype \n",
            "---  ------       --------------  ----- \n",
            " 0   Disease      41 non-null     object\n",
            " 1   Description  41 non-null     object\n",
            "dtypes: object(2)\n",
            "memory usage: 784.0+ bytes\n"
          ]
        }
      ],
      "source": [
        "diseaseDescriptionDF.info()"
      ]
    },
    {
      "cell_type": "code",
      "execution_count": 32,
      "metadata": {
        "id": "0GRvYf9EHyPt"
      },
      "outputs": [],
      "source": [
        "diseasePrecautionDF = pd.read_csv('C:/Users/HP/Documents/AIML/DiagnoSmart/Dataset/symptom_precaution.csv')"
      ]
    },
    {
      "cell_type": "code",
      "execution_count": 33,
      "metadata": {
        "colab": {
          "base_uri": "https://localhost:8080/"
        },
        "id": "fw5LqGOSIEF4",
        "outputId": "d0bcc3e4-ebc9-4be4-a93b-3f07b617ec1b"
      },
      "outputs": [
        {
          "name": "stdout",
          "output_type": "stream",
          "text": [
            "<class 'pandas.core.frame.DataFrame'>\n",
            "RangeIndex: 41 entries, 0 to 40\n",
            "Data columns (total 5 columns):\n",
            " #   Column        Non-Null Count  Dtype \n",
            "---  ------        --------------  ----- \n",
            " 0   Disease       41 non-null     object\n",
            " 1   Precaution_1  41 non-null     object\n",
            " 2   Precaution_2  41 non-null     object\n",
            " 3   Precaution_3  40 non-null     object\n",
            " 4   Precaution_4  40 non-null     object\n",
            "dtypes: object(5)\n",
            "memory usage: 1.7+ KB\n"
          ]
        }
      ],
      "source": [
        "diseasePrecautionDF.info()"
      ]
    },
    {
      "cell_type": "code",
      "execution_count": 34,
      "metadata": {
        "id": "dt0TiR6OIFvG"
      },
      "outputs": [],
      "source": [
        "merged_df = pd.merge(diseaseDescriptionDF, diseasePrecautionDF, on='Disease', how = 'left')"
      ]
    },
    {
      "cell_type": "code",
      "execution_count": 35,
      "metadata": {
        "colab": {
          "base_uri": "https://localhost:8080/"
        },
        "id": "z-GnOSbnIY2a",
        "outputId": "19ed765a-d309-450a-e6cd-b03560341f9f"
      },
      "outputs": [
        {
          "name": "stdout",
          "output_type": "stream",
          "text": [
            "<class 'pandas.core.frame.DataFrame'>\n",
            "RangeIndex: 41 entries, 0 to 40\n",
            "Data columns (total 6 columns):\n",
            " #   Column        Non-Null Count  Dtype \n",
            "---  ------        --------------  ----- \n",
            " 0   Disease       41 non-null     object\n",
            " 1   Description   41 non-null     object\n",
            " 2   Precaution_1  38 non-null     object\n",
            " 3   Precaution_2  38 non-null     object\n",
            " 4   Precaution_3  37 non-null     object\n",
            " 5   Precaution_4  37 non-null     object\n",
            "dtypes: object(6)\n",
            "memory usage: 2.1+ KB\n"
          ]
        }
      ],
      "source": [
        "merged_df.info()"
      ]
    },
    {
      "cell_type": "code",
      "execution_count": 36,
      "metadata": {
        "colab": {
          "base_uri": "https://localhost:8080/",
          "height": 257
        },
        "id": "0iEJBbOaIkWJ",
        "outputId": "6c7d4508-ee8e-46f6-fcb8-f86c7c1f657d"
      },
      "outputs": [
        {
          "data": {
            "text/html": [
              "<div>\n",
              "<style scoped>\n",
              "    .dataframe tbody tr th:only-of-type {\n",
              "        vertical-align: middle;\n",
              "    }\n",
              "\n",
              "    .dataframe tbody tr th {\n",
              "        vertical-align: top;\n",
              "    }\n",
              "\n",
              "    .dataframe thead th {\n",
              "        text-align: right;\n",
              "    }\n",
              "</style>\n",
              "<table border=\"1\" class=\"dataframe\">\n",
              "  <thead>\n",
              "    <tr style=\"text-align: right;\">\n",
              "      <th></th>\n",
              "      <th>Description</th>\n",
              "      <th>Precaution_1</th>\n",
              "      <th>Precaution_2</th>\n",
              "      <th>Precaution_3</th>\n",
              "      <th>Precaution_4</th>\n",
              "    </tr>\n",
              "    <tr>\n",
              "      <th>Disease</th>\n",
              "      <th></th>\n",
              "      <th></th>\n",
              "      <th></th>\n",
              "      <th></th>\n",
              "      <th></th>\n",
              "    </tr>\n",
              "  </thead>\n",
              "  <tbody>\n",
              "    <tr>\n",
              "      <th>Drug Reaction</th>\n",
              "      <td>An adverse drug reaction (ADR) is an injury caused by taking medication. ADRs may occur following a single dose or prolonged administration of a drug or result from the combination of two or more drugs.</td>\n",
              "      <td>stop irritation</td>\n",
              "      <td>consult nearest hospital</td>\n",
              "      <td>stop taking drug</td>\n",
              "      <td>follow up</td>\n",
              "    </tr>\n",
              "    <tr>\n",
              "      <th>Malaria</th>\n",
              "      <td>An infectious disease caused by protozoan parasites from the Plasmodium family that can be transmitted by the bite of the Anopheles mosquito or by a contaminated needle or transfusion. Falciparum malaria is the most deadly type.</td>\n",
              "      <td>Consult nearest hospital</td>\n",
              "      <td>avoid oily food</td>\n",
              "      <td>avoid non veg food</td>\n",
              "      <td>keep mosquitos out</td>\n",
              "    </tr>\n",
              "  </tbody>\n",
              "</table>\n",
              "</div>"
            ],
            "text/plain": [
              "                                                                                                                                                                                                                                        Description  \\\n",
              "Disease                                                                                                                                                                                                                                               \n",
              "Drug Reaction                            An adverse drug reaction (ADR) is an injury caused by taking medication. ADRs may occur following a single dose or prolonged administration of a drug or result from the combination of two or more drugs.   \n",
              "Malaria        An infectious disease caused by protozoan parasites from the Plasmodium family that can be transmitted by the bite of the Anopheles mosquito or by a contaminated needle or transfusion. Falciparum malaria is the most deadly type.   \n",
              "\n",
              "                           Precaution_1              Precaution_2  \\\n",
              "Disease                                                             \n",
              "Drug Reaction           stop irritation  consult nearest hospital   \n",
              "Malaria        Consult nearest hospital           avoid oily food   \n",
              "\n",
              "                     Precaution_3        Precaution_4  \n",
              "Disease                                                \n",
              "Drug Reaction    stop taking drug           follow up  \n",
              "Malaria        avoid non veg food  keep mosquitos out  "
            ]
          },
          "execution_count": 36,
          "metadata": {},
          "output_type": "execute_result"
        }
      ],
      "source": [
        "merged_df.set_index('Disease',inplace=True)\n",
        "merged_df.head(2)"
      ]
    },
    {
      "cell_type": "code",
      "execution_count": 37,
      "metadata": {
        "id": "RSB-CtqWJES5"
      },
      "outputs": [],
      "source": [
        "merged_df = merged_df.replace(np.NaN, 'None')"
      ]
    },
    {
      "cell_type": "code",
      "execution_count": 38,
      "metadata": {
        "id": "cUSMhvpLJS0V"
      },
      "outputs": [
        {
          "name": "stdout",
          "output_type": "stream",
          "text": [
            "WARNING:tensorflow:From c:\\Users\\HP\\AppData\\Local\\Programs\\Python\\Python311\\Lib\\site-packages\\keras\\src\\losses.py:2976: The name tf.losses.sparse_softmax_cross_entropy is deprecated. Please use tf.compat.v1.losses.sparse_softmax_cross_entropy instead.\n",
            "\n",
            "WARNING:tensorflow:From c:\\Users\\HP\\AppData\\Local\\Programs\\Python\\Python311\\Lib\\site-packages\\tensorflow_estimator\\python\\estimator\\util.py:74: The name tf.train.SessionRunHook is deprecated. Please use tf.estimator.SessionRunHook instead.\n",
            "\n",
            "WARNING:tensorflow:From c:\\Users\\HP\\AppData\\Local\\Programs\\Python\\Python311\\Lib\\site-packages\\tensorflow_hub\\native_module.py:92: The name tf.GraphKeys is deprecated. Please use tf.compat.v1.GraphKeys instead.\n",
            "\n",
            "WARNING:tensorflow:From c:\\Users\\HP\\AppData\\Local\\Programs\\Python\\Python311\\Lib\\site-packages\\tensorflow_hub\\saved_model_module.py:40: The name tf.saved_model.constants.LEGACY_INIT_OP_KEY is deprecated. Please use tf.compat.v1.saved_model.constants.LEGACY_INIT_OP_KEY instead.\n",
            "\n",
            "WARNING:tensorflow:From c:\\Users\\HP\\AppData\\Local\\Programs\\Python\\Python311\\Lib\\site-packages\\tensorflow_hub\\resolver.py:120: The name tf.gfile.MakeDirs is deprecated. Please use tf.io.gfile.makedirs instead.\n",
            "\n"
          ]
        },
        {
          "name": "stderr",
          "output_type": "stream",
          "text": [
            "WARNING:tensorflow:From c:\\Users\\HP\\AppData\\Local\\Programs\\Python\\Python311\\Lib\\site-packages\\tensorflow_hub\\resolver.py:120: The name tf.gfile.MakeDirs is deprecated. Please use tf.io.gfile.makedirs instead.\n",
            "\n"
          ]
        },
        {
          "name": "stdout",
          "output_type": "stream",
          "text": [
            "WARNING:tensorflow:From c:\\Users\\HP\\AppData\\Local\\Programs\\Python\\Python311\\Lib\\site-packages\\tensorflow_hub\\module_v2.py:120: The name tf.saved_model.load_v2 is deprecated. Please use tf.compat.v2.saved_model.load instead.\n",
            "\n"
          ]
        },
        {
          "name": "stderr",
          "output_type": "stream",
          "text": [
            "WARNING:tensorflow:From c:\\Users\\HP\\AppData\\Local\\Programs\\Python\\Python311\\Lib\\site-packages\\tensorflow_hub\\module_v2.py:120: The name tf.saved_model.load_v2 is deprecated. Please use tf.compat.v2.saved_model.load instead.\n",
            "\n"
          ]
        }
      ],
      "source": [
        "module_url = \"https://tfhub.dev/google/universal-sentence-encoder/4\"\n",
        "model = hub.load(module_url)\n",
        "embed = model(testDF['combined_symptoms'])"
      ]
    },
    {
      "cell_type": "code",
      "execution_count": 40,
      "metadata": {
        "colab": {
          "base_uri": "https://localhost:8080/",
          "height": 74
        },
        "id": "8JMw7qN9VNGd",
        "outputId": "a99f6f44-bb74-4ed5-c135-671b4cc7add1"
      },
      "outputs": [
        {
          "data": {
            "text/html": [
              "<style>#sk-container-id-1 {color: black;}#sk-container-id-1 pre{padding: 0;}#sk-container-id-1 div.sk-toggleable {background-color: white;}#sk-container-id-1 label.sk-toggleable__label {cursor: pointer;display: block;width: 100%;margin-bottom: 0;padding: 0.3em;box-sizing: border-box;text-align: center;}#sk-container-id-1 label.sk-toggleable__label-arrow:before {content: \"▸\";float: left;margin-right: 0.25em;color: #696969;}#sk-container-id-1 label.sk-toggleable__label-arrow:hover:before {color: black;}#sk-container-id-1 div.sk-estimator:hover label.sk-toggleable__label-arrow:before {color: black;}#sk-container-id-1 div.sk-toggleable__content {max-height: 0;max-width: 0;overflow: hidden;text-align: left;background-color: #f0f8ff;}#sk-container-id-1 div.sk-toggleable__content pre {margin: 0.2em;color: black;border-radius: 0.25em;background-color: #f0f8ff;}#sk-container-id-1 input.sk-toggleable__control:checked~div.sk-toggleable__content {max-height: 200px;max-width: 100%;overflow: auto;}#sk-container-id-1 input.sk-toggleable__control:checked~label.sk-toggleable__label-arrow:before {content: \"▾\";}#sk-container-id-1 div.sk-estimator input.sk-toggleable__control:checked~label.sk-toggleable__label {background-color: #d4ebff;}#sk-container-id-1 div.sk-label input.sk-toggleable__control:checked~label.sk-toggleable__label {background-color: #d4ebff;}#sk-container-id-1 input.sk-hidden--visually {border: 0;clip: rect(1px 1px 1px 1px);clip: rect(1px, 1px, 1px, 1px);height: 1px;margin: -1px;overflow: hidden;padding: 0;position: absolute;width: 1px;}#sk-container-id-1 div.sk-estimator {font-family: monospace;background-color: #f0f8ff;border: 1px dotted black;border-radius: 0.25em;box-sizing: border-box;margin-bottom: 0.5em;}#sk-container-id-1 div.sk-estimator:hover {background-color: #d4ebff;}#sk-container-id-1 div.sk-parallel-item::after {content: \"\";width: 100%;border-bottom: 1px solid gray;flex-grow: 1;}#sk-container-id-1 div.sk-label:hover label.sk-toggleable__label {background-color: #d4ebff;}#sk-container-id-1 div.sk-serial::before {content: \"\";position: absolute;border-left: 1px solid gray;box-sizing: border-box;top: 0;bottom: 0;left: 50%;z-index: 0;}#sk-container-id-1 div.sk-serial {display: flex;flex-direction: column;align-items: center;background-color: white;padding-right: 0.2em;padding-left: 0.2em;position: relative;}#sk-container-id-1 div.sk-item {position: relative;z-index: 1;}#sk-container-id-1 div.sk-parallel {display: flex;align-items: stretch;justify-content: center;background-color: white;position: relative;}#sk-container-id-1 div.sk-item::before, #sk-container-id-1 div.sk-parallel-item::before {content: \"\";position: absolute;border-left: 1px solid gray;box-sizing: border-box;top: 0;bottom: 0;left: 50%;z-index: -1;}#sk-container-id-1 div.sk-parallel-item {display: flex;flex-direction: column;z-index: 1;position: relative;background-color: white;}#sk-container-id-1 div.sk-parallel-item:first-child::after {align-self: flex-end;width: 50%;}#sk-container-id-1 div.sk-parallel-item:last-child::after {align-self: flex-start;width: 50%;}#sk-container-id-1 div.sk-parallel-item:only-child::after {width: 0;}#sk-container-id-1 div.sk-dashed-wrapped {border: 1px dashed gray;margin: 0 0.4em 0.5em 0.4em;box-sizing: border-box;padding-bottom: 0.4em;background-color: white;}#sk-container-id-1 div.sk-label label {font-family: monospace;font-weight: bold;display: inline-block;line-height: 1.2em;}#sk-container-id-1 div.sk-label-container {text-align: center;}#sk-container-id-1 div.sk-container {/* jupyter's `normalize.less` sets `[hidden] { display: none; }` but bootstrap.min.css set `[hidden] { display: none !important; }` so we also need the `!important` here to be able to override the default hidden behavior on the sphinx rendered scikit-learn.org. See: https://github.com/scikit-learn/scikit-learn/issues/21755 */display: inline-block !important;position: relative;}#sk-container-id-1 div.sk-text-repr-fallback {display: none;}</style><div id=\"sk-container-id-1\" class=\"sk-top-container\"><div class=\"sk-text-repr-fallback\"><pre>NearestNeighbors(n_neighbors=1)</pre><b>In a Jupyter environment, please rerun this cell to show the HTML representation or trust the notebook. <br />On GitHub, the HTML representation is unable to render, please try loading this page with nbviewer.org.</b></div><div class=\"sk-container\" hidden><div class=\"sk-item\"><div class=\"sk-estimator sk-toggleable\"><input class=\"sk-toggleable__control sk-hidden--visually\" id=\"sk-estimator-id-1\" type=\"checkbox\" checked><label for=\"sk-estimator-id-1\" class=\"sk-toggleable__label sk-toggleable__label-arrow\">NearestNeighbors</label><div class=\"sk-toggleable__content\"><pre>NearestNeighbors(n_neighbors=1)</pre></div></div></div></div></div>"
            ],
            "text/plain": [
              "NearestNeighbors(n_neighbors=1)"
            ]
          },
          "execution_count": 40,
          "metadata": {},
          "output_type": "execute_result"
        }
      ],
      "source": [
        "neigh = NearestNeighbors(n_neighbors=1)\n",
        "\n",
        "neigh.fit(embed)"
      ]
    },
    {
      "cell_type": "code",
      "execution_count": 44,
      "metadata": {
        "colab": {
          "base_uri": "https://localhost:8080/"
        },
        "id": "XEjE2w-zWMOv",
        "outputId": "abe1ad1b-54be-4794-de31-0585050ab7a5"
      },
      "outputs": [
        {
          "data": {
            "text/plain": [
              "'my skin is itching and i have rashes on my vody'"
            ]
          },
          "execution_count": 44,
          "metadata": {},
          "output_type": "execute_result"
        }
      ],
      "source": [
        "symptoms = input('Enter your symptoms: ')\n",
        "symptoms"
      ]
    },
    {
      "cell_type": "code",
      "execution_count": 45,
      "metadata": {},
      "outputs": [
        {
          "name": "stdout",
          "output_type": "stream",
          "text": [
            "Predicted Diagnosis:  Fungal infection\n"
          ]
        }
      ],
      "source": [
        "emd = model([symptoms])\n",
        "nei = neigh.kneighbors(emd,return_distance=False)[0][0]\n",
        "disease_name = testDF['Disease'].iloc[nei]\n",
        "print('Predicted Diagnosis: ', disease_name)"
      ]
    },
    {
      "cell_type": "code",
      "execution_count": 48,
      "metadata": {
        "id": "W-C7KDuvX4FC"
      },
      "outputs": [
        {
          "name": "stdout",
          "output_type": "stream",
          "text": [
            "Fungal infection : In humans, fungal infections occur when an invading fungus takes over an area of the body and is too much for the immune system to handle. Fungi can live in the air, soil, water, and plants. There are also some fungi that live naturally in the human body. Like many microbes, there are helpful fungi and harmful fungi.\n"
          ]
        }
      ],
      "source": [
        "description = merged_df['Description'].loc[disease_name]\n",
        "print(disease_name,':', description)"
      ]
    },
    {
      "cell_type": "code",
      "execution_count": 54,
      "metadata": {},
      "outputs": [
        {
          "name": "stdout",
          "output_type": "stream",
          "text": [
            "Precauions\n",
            "1 . bath twice\n",
            "2 . use detol or neem in bathing water\n",
            "3 . keep infected area dry\n",
            "4 . use clean cloths\n"
          ]
        }
      ],
      "source": [
        "Precauions = list(merged_df[['Precaution_1','Precaution_2','Precaution_3','Precaution_4']].loc[disease_name])\n",
        "print('Precauions')\n",
        "for count, precaution in enumerate(Precauions, start=1):\n",
        "  print(count,'.',precaution)"
      ]
    }
  ],
  "metadata": {
    "colab": {
      "provenance": []
    },
    "kernelspec": {
      "display_name": "Python 3",
      "name": "python3"
    },
    "language_info": {
      "codemirror_mode": {
        "name": "ipython",
        "version": 3
      },
      "file_extension": ".py",
      "mimetype": "text/x-python",
      "name": "python",
      "nbconvert_exporter": "python",
      "pygments_lexer": "ipython3",
      "version": "3.11.7"
    }
  },
  "nbformat": 4,
  "nbformat_minor": 0
}
